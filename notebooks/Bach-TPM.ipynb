{
 "cells": [
  {
   "cell_type": "markdown",
   "id": "47a9c16f",
   "metadata": {},
   "source": [
    "## Preamble"
   ]
  },
  {
   "cell_type": "code",
   "execution_count": 81,
   "id": "65cd180c",
   "metadata": {},
   "outputs": [],
   "source": [
    "import astropy.units as u\n",
    "import numba as nb\n",
    "from numba import njit\n",
    "import numpy as np\n",
    "from scipy.integrate import quad\n",
    "from scipy.interpolate import RectBivariateSpline\n",
    "import matplotlib.pyplot as plt"
   ]
  },
  {
   "cell_type": "markdown",
   "id": "e6fa7ab9",
   "metadata": {},
   "source": [
    "#### sb = tm.SmallBody()"
   ]
  },
  {
   "cell_type": "markdown",
   "id": "59a1d470",
   "metadata": {},
   "source": [
    "### Make dummy ephemerides\n",
    "#### sb.set_ecl(r_hel=1.1*u.au, r_obs=1, alpha=0, hel_ecl_lon=0, hel_ecl_lat=0, obs_ecl_lon=0, obs_ecl_lat=0)\n"
   ]
  },
  {
   "cell_type": "code",
   "execution_count": 82,
   "id": "69d6abf8",
   "metadata": {},
   "outputs": [],
   "source": [
    "r_hel = 1.1*u.au #r_hel : heliocentric distance to the object [au]\n",
    "r_obs = 1*u.au #r_obs : observer-centric distance to the object [au]\n",
    "\n",
    "hel_ecl_lon = 0*u.deg #hel_ecl_lon : heliocentric ecliptic longitude [deg]\n",
    "hel_ecl_lat = 0*u.deg #hel_ecl_lat : heliocentric ecliptic latitude [deg]\n",
    "obs_ecl_lon = 0*u.deg #obs_ecl_lon : observer-centric ecliptic longitude [deg]\n",
    "obs_ecl_lat = 0*u.deg #obs_ecl_lat : observer-centric ecliptic latitude [deg]\n",
    "phase_ang = 0*u.deg #phase_angle : Phase angle (Sun-target-observer angle) [deg]\n",
    "\n",
    "spin_vec = np.array([None, None, None])"
   ]
  },
  {
   "cell_type": "markdown",
   "id": "0a5d7aa0",
   "metadata": {},
   "source": [
    "### Convert the heliocentric lon/lat coordinate to cartesian coordinates.\n",
    "#### vec = lonlat2cart(lon=hel_ecl_lon, lat=hel_ecl_lat, r=r_hel.value)\n"
   ]
  },
  {
   "cell_type": "code",
   "execution_count": 83,
   "id": "5e4994c9",
   "metadata": {},
   "outputs": [],
   "source": [
    "try:\n",
    "    theta = 90*u.deg - hel_ecl_lat\n",
    "    sin_th = (np.sin(theta)).value\n",
    "    cos_th = (np.cos(theta)).value\n",
    "    sin_ph = (np.sin(hel_ecl_lon)).value\n",
    "    cos_ph = (np.cos(hel_ecl_lon)).value\n",
    "\n",
    "    x = r_hel.value * sin_th * cos_ph\n",
    "    y = r_hel.value * sin_th * sin_ph\n",
    "    z = r_hel.value * cos_th\n",
    "    vec = np.array([x, y, z])\n",
    "    r_hel_vec = vec*u.au\n",
    "\n",
    "except TypeError:\n",
    "    r_hel_vec = np.array([None, None, None])"
   ]
  },
  {
   "cell_type": "markdown",
   "id": "5eee881c",
   "metadata": {},
   "source": [
    "### Convert the observer-centric lon/lat coordinate to cartesian coordinates.\n",
    "#### vec = lonlat2cart(lon=obs_ecl_lon, lat=obs_ecl_lat, r=r_obs.value)\n"
   ]
  },
  {
   "cell_type": "code",
   "execution_count": 84,
   "id": "07b54c70",
   "metadata": {},
   "outputs": [],
   "source": [
    "try:\n",
    "    theta = 90*u.deg - obs_ecl_lat\n",
    "    sin_th = (np.sin(theta)).value\n",
    "    cos_th = (np.cos(theta)).value\n",
    "    sin_ph = (np.sin(obs_ecl_lon)).value\n",
    "    cos_ph = (np.cos(obs_ecl_lon)).value\n",
    "\n",
    "    x = r_obs.value * sin_th * cos_ph\n",
    "    y = r_obs.value * sin_th * sin_ph\n",
    "    z = r_obs.value * cos_th\n",
    "    vec = np.array([x, y, z])\n",
    "    r_obs_vec = vec*u.au\n",
    "except TypeError:\n",
    "    r_obs_vec = np.array([None, None, None])"
   ]
  },
  {
   "cell_type": "markdown",
   "id": "0bddd0ef",
   "metadata": {},
   "source": [
    "### Set the spin vector\n",
    "#### sb.set_spin(spin_ecl_lon=0, spin_ecl_lat=90, rot_period=6*u.h)\n"
   ]
  },
  {
   "cell_type": "code",
   "execution_count": 85,
   "id": "e1013085",
   "metadata": {},
   "outputs": [],
   "source": [
    "spin_ecl_lon = 0*u.deg #spin_ecl_lon : ecliptic longitude of the spin vector [deg]\n",
    "spin_ecl_lat = 90*u.deg #spin_ecl_lat : ecliptic lattitude of the spin vector [deg]\n",
    "rot_period=(6*u.h).to(u.s) #rot_period : rotational period of the object [s]"
   ]
  },
  {
   "cell_type": "markdown",
   "id": "8f901bc3",
   "metadata": {},
   "source": [
    "### Convert the spin lon/lat coordinate to cartesian coordinates.\n",
    "#### \tvec = lonlat2cart(lon=spin_ecl_lon, lat=spin_ecl_lat, r=1)\n"
   ]
  },
  {
   "cell_type": "code",
   "execution_count": 86,
   "id": "54b4ba73",
   "metadata": {},
   "outputs": [],
   "source": [
    "try:\n",
    "    theta = 90*u.deg - spin_ecl_lat\n",
    "    sin_th = (np.sin(theta)).value\n",
    "    cos_th = (np.cos(theta)).value\n",
    "    sin_ph = (np.sin(spin_ecl_lon)).value\n",
    "    cos_ph = (np.cos(spin_ecl_lon)).value\n",
    "\n",
    "    x = 1 * sin_th * cos_ph\n",
    "    y = 1 * sin_th * sin_ph\n",
    "    z = 1 * cos_th\n",
    "    vec = np.array([x, y, z])\n",
    "    spin_vec = vec\n",
    "except TypeError:\n",
    "    spin_vec = np.array([None, None, None])"
   ]
  },
  {
   "cell_type": "markdown",
   "id": "cafe46fa",
   "metadata": {},
   "source": [
    "### Set the aspect angle\n",
    "#### _set_aspect_angle()"
   ]
  },
  {
   "cell_type": "code",
   "execution_count": 87,
   "id": "b7e3fa7c",
   "metadata": {},
   "outputs": [
    {
     "name": "stderr",
     "output_type": "stream",
     "text": [
      "/var/folders/w4/wz74k96n4y9dftbhhrp3ttn80000gn/T/ipykernel_90347/3376390342.py:2: DeprecationWarning: elementwise comparison failed; this will raise an error in the future.\n",
      "  if r_hel_vec != np.array([None, None, None]) and r_obs_vec != np.array([None, None, None]):\n"
     ]
    }
   ],
   "source": [
    "try:\n",
    "    if r_hel_vec != np.array([None, None, None]) and r_obs_vec != np.array([None, None, None]):\n",
    "        r_hel_hat = r_hel_vec/r_hel #r_hel_hat : unit vector of heliocentric vector\n",
    "        r_obs_hat = r_obs_vec/r_obs #r_obs_hat : unit vector of observercentric vector\n",
    "        \n",
    "        asp1 = np.rad2deg(np.arccos(np.inner(-1*r_hel_hat, spin_vec))) #asp1 : angle between heliocentric vector and spin vector i.e. theta = cos-1(r_hel_hat dot spin_vec)\n",
    "        asp2 = np.rad2deg(np.arccos(np.inner(-1*r_obs_hat, spin_vec))) #asp2 : angle between observercentric vector and spin vector i.e. theta = cos-1(r_obs_hat dot spin_vec)\n",
    "        \n",
    "        aspect_ang = asp1.to(u.deg)\n",
    "        aspect_ang_obs = asp2.to(u.deg\n",
    "                                )\n",
    "        sign = -1*np.sign(np.inner(np.cross(r_obs_hat, r_hel_hat), spin_vec))\n",
    "        cc = np.cos(aspect_ang)*np.cos(aspect_ang_obs)\n",
    "        ss = np.sin(aspect_ang)*np.sin(aspect_ang_obs)\n",
    "        \n",
    "        _arg = ((cc - np.cos(phase_ang))/ss).value\n",
    "        if _arg < -1:\n",
    "            _arg += 1.e-10\n",
    "        elif _arg > +1:\n",
    "            _arg -= 1.e-10\n",
    "        dphi = np.arccos(_arg)*u.deg\n",
    "        phi_obs = (180*u.deg + sign*dphi).to(u.deg)\n",
    "        if np.isnan(phi_obs):\n",
    "            raise ValueError(\"Oops T___T\")\n",
    "        pos_sub_sol = (aspect_ang, 180*u.deg)\n",
    "        pos_sub_obs = (aspect_ang_obs, phi_obs)\n",
    "except TypeError:\n",
    "    pass"
   ]
  },
  {
   "cell_type": "markdown",
   "id": "76b1620f",
   "metadata": {},
   "source": [
    "### Set and solve dummy optical phase curve related parameters\t\n",
    "#### sb.set_optical(a_bond=0.1, p_vis=1, diam_eff=1, slope_par=tm.pA2G(1, 0.1))\n"
   ]
  },
  {
   "cell_type": "code",
   "execution_count": 88,
   "id": "7e3eac0c",
   "metadata": {},
   "outputs": [],
   "source": [
    "a_bond = 0.1 #a_bond : Bond albedo i.e. A = q*p\n",
    "p_vis = 1 #p_vis : geometric albedo in the V-band \n",
    "q = a_bond/p_vis #q : phase integral i.e A/p\n",
    "\n",
    "diam_eff = 1 #diam_eff : effective diameter [m]\n",
    "radi_eff = diam_eff/2 #radi_eff : effective radius\n",
    "d0 = 1329 #d0 : The effective diameter when geometric albedo is unity and the absolute magnitude is zero [km]\n",
    "\n",
    "const1, const2 = 0.286, 0.656\n",
    "slope_par = (q - const1)/const2\n",
    "hmag_vis = 5*np.log10(d0/diam_eff*1/np.sqrt(p_vis)) #hmag_vis : absolute magnitude in the V-band\n",
    "phase_int = const1 + const2*slope_par"
   ]
  },
  {
   "cell_type": "markdown",
   "id": "f0b1bacf",
   "metadata": {},
   "source": [
    "### Set thermal model related paramters\n",
    "#### sb.set_thermal(ti=ti, emissivity=0.9)"
   ]
  },
  {
   "cell_type": "code",
   "execution_count": 89,
   "id": "c4ffa5d0",
   "metadata": {},
   "outputs": [],
   "source": [
    "ti = 100 #ti : thermal inertia [J/m^2/s^0.5/K].\n",
    "emissivity = 0.9 #emissivity : spectrum-averaged hemispherical emissivity of the surface material (assumption is \n",
    "                 #that directional emissivity is direction- and wavelength-independent)\n",
    "eta_beam = 1 #eta_beam : beaming parameter (1.0 means no beaming effect, i.e. zero thermal inertia?)."
   ]
  },
  {
   "cell_type": "markdown",
   "id": "430f7148",
   "metadata": {},
   "source": [
    "### Solve the equilibrium temperature formula. \n",
    "###### - Identical to the subsolar temperature in STM/NEATM, which assume instanteneous thermal equilibrium, (i.e., null thermal inertia). But this is not the subsolar temperature in TPM.\n",
    "\n",
    "#### ps1 = solve_temp_eqm(temp_eqm=None, a_bond=self.a_bond, eta_beam=eta_beam, r_hel=self.r_hel, emissivity=emissivity,**toQ)\n"
   ]
  },
  {
   "cell_type": "code",
   "execution_count": 90,
   "id": "2373e5ce",
   "metadata": {},
   "outputs": [],
   "source": [
    "S1AU = 1361.2\n",
    "SIGMA_SB = 5.670367e-08 #SIGMA_SB : Stefan--Boltzmann constant [W/m^2/K^4]\n",
    "temp_eqm = ((((1 - a_bond)*S1AU/(eta_beam*SIGMA_SB*emissivity*r_hel.value**2)))**(1/4)) #temp_eqm : equilibrium \n",
    "                                                                                        #temperature [K]\n",
    "temp_eqm_1au = np.sqrt(r_hel.to(u.au).value)*temp_eqm\n",
    "temp_eqm__K = (temp_eqm*u.K).value"
   ]
  },
  {
   "cell_type": "markdown",
   "id": "7f419ba7",
   "metadata": {},
   "source": [
    "### Solve thermal parameter (Theta) equation\n",
    "#### ps2 = solve_thermal_par(thermal_par=None, ti=ti, rot_period=self.rot_period, temp_eqm=self.temp_eqm, emissivity=emissivity, **toQ)\n"
   ]
  },
  {
   "cell_type": "code",
   "execution_count": 91,
   "id": "958783ed",
   "metadata": {},
   "outputs": [],
   "source": [
    "wrot = (2*np.pi/rot_period.value) #wrot: rotational frequency i.e. 2pi/rotational period\n",
    "thermal_par = ti*np.sqrt(wrot)/(emissivity*SIGMA_SB*temp_eqm**3) #i.e. I*sqrt(omega)/epsilon*sigma*T^3"
   ]
  },
  {
   "cell_type": "markdown",
   "id": "eed56794",
   "metadata": {},
   "source": [
    "### set TPM code related parameters.\n",
    "#### sb.set_tpm(nlon=360, nlat=3, Zmax=10, dZ=0.2)\n"
   ]
  },
  {
   "cell_type": "code",
   "execution_count": 92,
   "id": "db46d272",
   "metadata": {},
   "outputs": [],
   "source": [
    "nlon = 360\n",
    "nlat = 3\n",
    "Zmax = 10\n",
    "dZ = 0.2 #dZ : depth bin size in units of thermal skin depth\n",
    "dlon = 2*np.pi/nlon #dlon : longitude in units of thermal skin depth. Identical to dT in M. Mueller (2007)\n",
    "dlat = np.pi/nlat\n",
    "nZ = int(np.around(Zmax//dZ))"
   ]
  },
  {
   "cell_type": "markdown",
   "id": "285d1f29",
   "metadata": {},
   "source": [
    "### Calculate the temperature using TPM\n",
    "#### sb.calc_temp(full=False)"
   ]
  },
  {
   "cell_type": "code",
   "execution_count": 93,
   "id": "1109438b",
   "metadata": {},
   "outputs": [],
   "source": [
    "min_iter = 50 #min_iter : The minimum number of iteration for the equilibrium temperature calculation.\n",
    "permanent_shadow_u = 0  #permanent_shadow_u : The temperature to be substituted for permanently shadowed regions \n",
    "                        #[in units of temp_epm]\n",
    "phases = np.linspace(0, 2*np.pi - dlon, nlon)*u.rad #phases : phase values [rad]\n",
    "colats = np.linspace(0 + dlat/2, np.pi - dlat/2, nlat)*u.rad #colats : The co-latitude of the surface. i.e. the angle between the pole (spin) and normal vectors. [rad]\n",
    "Zarr = np.linspace(0, Zmax - dZ, nZ)\n",
    "phases_spl = np.linspace(0, 360 + dlon*(180/np.pi), nlon + 1)\n",
    "colats_spl = (colats.to(u.deg)).value\n",
    "u_arr = np.zeros(shape=(nlat, nlon + 1, nZ)) #u_arr : normalized temperature, T/T_EQM array\n",
    "\n",
    "for k in range(nlat): #initial guess = temp_eqm*e^(-depth/skin_depth)\n",
    "    u_arr[k, 0, :] = np.exp(-Zarr)"
   ]
  },
  {
   "cell_type": "markdown",
   "id": "3f7a7d2f",
   "metadata": {},
   "source": [
    "### Get the conversion matrix to convert body-fixed frame to surface system.\n",
    "#### self.mu_suns = calc_mu_vals(r_vec=self.r_hel_vec, spin_vec=self.spin_vec, phases=phases, colats=colats, full=False)\n"
   ]
  },
  {
   "cell_type": "code",
   "execution_count": 94,
   "id": "57be4955",
   "metadata": {},
   "outputs": [],
   "source": [
    "r_vec = r_hel_vec #r_vec : the Cartesian coordinate of the comet in ecliptic coordinates\n",
    "colats__deg = colats.to(u.deg).value\n",
    "phases__rad = phases.to(u.rad).value\n",
    "M2arr = []\n",
    "M3arr = []\n",
    "dirs = []\n",
    "mu_vals = []\n",
    "\n",
    "Z_fs_ec = spin_vec.copy()\n",
    "Y_fs_ec = np.cross(spin_vec, -r_vec)\n",
    "X_fs_ec = np.cross(Y_fs_ec, Z_fs_ec)\n",
    "\n",
    "# The input rh or spin vector mignt not be unit vectors, so divide by lengths to make a suitable matrix:\n",
    "X_fs_ec = X_fs_ec / np.linalg.norm(X_fs_ec)\n",
    "Y_fs_ec = Y_fs_ec / np.linalg.norm(Y_fs_ec)\n",
    "Z_fs_ec = Z_fs_ec / np.linalg.norm(Z_fs_ec)\n",
    "\n",
    "m1 = np.vstack([X_fs_ec, Y_fs_ec, Z_fs_ec]).T\n",
    "M1 = np.linalg.inv(m1)"
   ]
  },
  {
   "cell_type": "markdown",
   "id": "c1697856",
   "metadata": {},
   "source": [
    "### get conversion matrix to convert frame system to body-fixed frame for each phase.\n"
   ]
  },
  {
   "cell_type": "code",
   "execution_count": 95,
   "id": "68674b49",
   "metadata": {},
   "outputs": [],
   "source": [
    "for phase in phases__rad:\n",
    "    c = np.cos(phase)\n",
    "    s = np.sin(phase)\n",
    "    m = np.array([[-c, -s, 0], [s, -c, 0], [0, 0, 1]])\n",
    "    M2arr.append(m)"
   ]
  },
  {
   "cell_type": "markdown",
   "id": "7e977d80",
   "metadata": {},
   "source": [
    "### get conversion matrix to convert body-fixed frame to surface system for each co-lattitude.\n"
   ]
  },
  {
   "cell_type": "code",
   "execution_count": 96,
   "id": "2d73bcfd",
   "metadata": {},
   "outputs": [],
   "source": [
    "for colat in colats__deg:\n",
    "    colat__deg = colat\n",
    "    c = np.cos(colat__deg * (np.pi/180))\n",
    "    s = np.sin(colat__deg * (np.pi/180))\n",
    "    m = np.array([[0, 1, 0], [-c, 0, s], [s, 0, c]])\n",
    "    M3arr.append(m)"
   ]
  },
  {
   "cell_type": "code",
   "execution_count": 97,
   "id": "9549fe3b",
   "metadata": {},
   "outputs": [],
   "source": [
    "M2arr = np.array(M2arr)\n",
    "M3arr = np.array(M3arr)\n",
    "\n",
    "r_hel_unit = (r_vec)/np.linalg.norm(r_vec)\n",
    "\n",
    "for M3 in M3arr:\n",
    "    dirs.append(M3 @ M2arr @ M1 @ -r_hel_unit)\n",
    "solar_dirs = np.array(dirs)\n",
    "mu_vals = solar_dirs.copy()[:, :, 2]  #Z component = cos i_sun for mu_sun case.\n",
    "mu_vals[mu_vals < 0] = 0\n",
    "mu_suns = mu_vals\n",
    "\n",
    "_mu_suns = mu_suns.copy()\n",
    "_mu_suns = np.append(_mu_suns, np.atleast_2d(_mu_suns[:, 0]).T, axis=1)\n",
    "spl_musun = RectBivariateSpline(colats_spl, phases_spl, _mu_suns, kx=1, ky=1, s=0)"
   ]
  },
  {
   "cell_type": "markdown",
   "id": "cdf6b78d",
   "metadata": {},
   "source": [
    "#### calc_uarr_tpm(u_arr, thpar=self.thermal_par.value, dlon=self.dlon, dZ=self.dZ, mu_suns=self.mu_suns, min_iter=min_iter, permanent_shadow_u=permanent_shadow_u)\n"
   ]
  },
  {
   "cell_type": "code",
   "execution_count": 98,
   "id": "32c9d894",
   "metadata": {},
   "outputs": [],
   "source": [
    "min_elevation_deg = 0.  #min_elevation_deg : The minimum elevation to check whether the latitudinal slab is \n",
    "                        #assumed as a permanently shadowed region. The latitudinal band is assumed to be in a \n",
    "                        #permanent shadow if the sun is always below this elevation, and all the temperature on \n",
    "                        #this latitude is just set as a constant given by `permanent_shadow_u in the unit of \n",
    "                        #``temp_eqm``.\n",
    "max_iter=5000 #max_iter : maxumum number of iteration for the equilibrium temperature calculation.\n",
    "thpar = thermal_par #thpar : thermal parameter, frequently denoted by Theta\n",
    "\n",
    "ncolat, ntimep1, ndepth = u_arr.shape\n",
    "ntime = ntimep1 - 1\n",
    "\n",
    "for i_lat in nb.prange(ncolat):\n",
    "    # Check whether the latitude is under permanent shadow.\n",
    "    permanent_shadow = True\n",
    "    for k in range(ntime):\n",
    "        #If the sun reaches above ``min_elevation_deg``, i.e.,\n",
    "        #mu_sun = cos(90 - EL_sun) > cos(90 - min_elevation_deg)\n",
    "        #at least once, it's not a permanent shadow:\n",
    "        if mu_suns[i_lat, k] > np.cos((90 - min_elevation_deg)*(np.pi/180)):\n",
    "            #If sun rises > min_elevation_deg\n",
    "            permanent_shadow = False\n",
    "            break\n",
    "\n",
    "    if permanent_shadow:\n",
    "        for i_t in nb.prange(ntime):\n",
    "            for i_dep in nb.prange(ndepth):\n",
    "                u_arr[i_lat, i_t, i_dep] = permanent_shadow_u\n",
    "\n",
    "    else:\n",
    "        discrep = 1.\n",
    "        for i_iter in range(max_iter):\n",
    "            for i_t in range(ntime):\n",
    "                for i_z in range(1, ndepth - 1):\n",
    "                    u_arr[i_lat, i_t + 1, i_z] = (\n",
    "                        u_arr[i_lat, i_t, i_z]\n",
    "                        + dlon/dZ**2\n",
    "                        * (u_arr[i_lat, i_t, i_z - 1]\n",
    "                           + u_arr[i_lat, i_t, i_z + 1]\n",
    "                           - 2*u_arr[i_lat, i_t, i_z]\n",
    "                           )\n",
    "                    )\n",
    "                u_arr[i_lat, i_t + 1, -1] = u_arr[i_lat, i_t + 1, -2]\n",
    "                \n",
    "                # Root finding using Newton's method:\n",
    "                x0 = u_arr[i_lat, i_t, 0] #x0 : first trial to the ``newu[0]`` value, i.e., the ansatz of ``newu[0]`` value.\n",
    "                newu1 = u_arr[i_lat, i_t + 1, 1] #newu1 : ``newu[1]`` value\n",
    "                mu_sun = mu_suns[i_lat, i_t] #mu_sun : cosine of the incident angle (zenith angle of the Sun).\n",
    "                Nmax = max_iter #Nmax : maximum number of iteration to halt the root finding.\n",
    "                atol = 1.e-8 #atol : if absolute difference is smaller than ``atol``, the iteration will stop.\n",
    "                for i in range(Nmax):\n",
    "                    f0 = x0**4 - mu_sun - thpar / dZ * (newu1 - x0)\n",
    "                    slope = 4 * x0**3 + thpar / dZ\n",
    "                    x1 = x0 - f0 / slope\n",
    "\n",
    "                    # It is good if the iteration ends here:\n",
    "                    if abs(x1 - x0) < atol:\n",
    "                        break\n",
    "                    # Reset for next iteration\n",
    "                    x0 = x1\n",
    "                \n",
    "                u_arr[i_lat, i_t + 1, 0] = x1\n",
    "            discrep = np.abs(u_arr[i_lat, 0, 0] - u_arr[i_lat, -1, 0])\n",
    "\n",
    "            for i in range(ndepth):\n",
    "                u_arr[i_lat, 0, i] = u_arr[i_lat, -1, i]\n",
    "\n",
    "            if i_iter > min_iter and discrep < 1.e-8:\n",
    "                break"
   ]
  },
  {
   "cell_type": "markdown",
   "id": "c0b87ffb",
   "metadata": {},
   "source": [
    "### Because there is one more \"phase\" value, make spline and erase it\n"
   ]
  },
  {
   "cell_type": "code",
   "execution_count": 99,
   "id": "fc0c5944",
   "metadata": {},
   "outputs": [],
   "source": [
    "spl_uarr = RectBivariateSpline(colats_spl, phases_spl, u_arr[:, :, 0], kx=1, ky=1, s=0)\n",
    "u_arr = u_arr[:, :-1, :]"
   ]
  },
  {
   "cell_type": "code",
   "execution_count": 100,
   "id": "64ad9df7",
   "metadata": {},
   "outputs": [],
   "source": [
    "tempfull = u_arr*temp_eqm__K #tempfull : temperature beneath the surface [K]\n",
    "tempsurf = u_arr[:, :, 0]*temp_eqm__K #tempsurf : surface temperature"
   ]
  },
  {
   "cell_type": "markdown",
   "id": "2b6ea112",
   "metadata": {},
   "source": [
    "### Return 1d array of temperature\n",
    "#### sb.get_temp_1d(colat__deg=90, lon__deg=phis)\n"
   ]
  },
  {
   "cell_type": "code",
   "execution_count": 101,
   "id": "98c545c8",
   "metadata": {},
   "outputs": [],
   "source": [
    "colat__deg = 90 #colat__deg : The colatitude, which is 0 at North and 180 at South\n",
    "lon__deg = np.arange(0, 360) #lon__deg : the phase (longitude), which is 0 at midnight and 90 at sunrise \n",
    "temp = spl_uarr(colat__deg, lon__deg)"
   ]
  },
  {
   "cell_type": "code",
   "execution_count": 102,
   "id": "03645db8",
   "metadata": {},
   "outputs": [
    {
     "data": {
      "image/png": "[encoded data removed]",
      "text/plain": [
       "<Figure size 700x500 with 1 Axes>"
      ]
     },
     "metadata": {},
     "output_type": "display_data"
    }
   ],
   "source": [
    "phis = np.arange(0, 360)\n",
    "fig, axs = plt.subplots(1, 1, figsize=(7, 5))\n",
    "axs.plot(lon__deg/60, temp_eqm__K*temp.flatten(), color='cyan', label=f\"TI=100\", lw=1)\n",
    "axs.set(ylim=(50, 400), xlim=(0, 6),\n",
    "        xlabel=\"Time (hr; 0 is midnight)\", ylabel=\"Temperature (K)\")\n",
    "axs.legend(loc=1, fontsize=7, framealpha=0)\n",
    "axs.tick_params(right=True, top=True)\n",
    "axs.grid()\n",
    "plt.tight_layout()\n",
    "plt.show()"
   ]
  }
 ],
 "metadata": {
  "kernelspec": {
   "display_name": "Python 3 (ipykernel)",
   "language": "python",
   "name": "python3"
  },
  "language_info": {
   "codemirror_mode": {
    "name": "ipython",
    "version": 3
   },
   "file_extension": ".py",
   "mimetype": "text/x-python",
   "name": "python",
   "nbconvert_exporter": "python",
   "pygments_lexer": "ipython3",
   "version": "3.11.3"
  }
 },
 "nbformat": 4,
 "nbformat_minor": 5
}
